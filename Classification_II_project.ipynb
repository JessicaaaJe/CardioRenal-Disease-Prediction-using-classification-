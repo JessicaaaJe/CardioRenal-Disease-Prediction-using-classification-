{
  "nbformat": 4,
  "nbformat_minor": 0,
  "metadata": {
    "colab": {
      "provenance": [],
      "mount_file_id": "1uWvibF2fPfBpisuRY66MExCfZgXnXMNi",
      "authorship_tag": "ABX9TyMe4YxwbO1bgUk7CVxpqWxl",
      "include_colab_link": true
    },
    "kernelspec": {
      "name": "python3",
      "display_name": "Python 3"
    },
    "language_info": {
      "name": "python"
    }
  },
  "cells": [
    {
      "cell_type": "markdown",
      "metadata": {
        "id": "view-in-github",
        "colab_type": "text"
      },
      "source": [
        "<a href=\"https://colab.research.google.com/github/JessicaaaJe/Jesscia_Data_Mining_Project/blob/main/Classification_II_project.ipynb\" target=\"_parent\"><img src=\"https://colab.research.google.com/assets/colab-badge.svg\" alt=\"Open In Colab\"/></a>"
      ]
    },
    {
      "cell_type": "markdown",
      "source": [
        "## Classification II Project\n",
        "Jessica Chen"
      ],
      "metadata": {
        "id": "mw9wDh33c0U2"
      }
    },
    {
      "cell_type": "code",
      "execution_count": null,
      "metadata": {
        "id": "79ciefmZI13L"
      },
      "outputs": [],
      "source": [
        "'''\n",
        "Import for Classification II Project\n",
        "'''\n",
        "\n",
        "import math\n",
        "import random\n",
        "import matplotlib.pyplot as plt\n",
        "from matplotlib import colors\n",
        "from matplotlib.ticker import PercentFormatter\n",
        "\n",
        "import numpy as np\n",
        "from numpy import mean\n",
        "from numpy import std\n",
        "\n",
        "\n",
        "\n",
        "from sklearn.metrics import get_scorer_names, accuracy_score, f1_score\n",
        "from sklearn.datasets import make_classification\n",
        "from sklearn.model_selection import cross_val_score\n",
        "from sklearn.model_selection import RepeatedStratifiedKFold\n",
        "from sklearn.ensemble import RandomForestClassifier\n",
        "import sklearn.utils.parallel\n",
        "from sklearn import neighbors\n",
        "from sklearn.metrics import balanced_accuracy_score\n",
        "\n",
        "from sklearn.model_selection import train_test_split\n",
        "from sklearn.neighbors import KNeighborsClassifier\n",
        "from sklearn.metrics import classification_report, accuracy_score\n",
        "from sklearn.preprocessing import StandardScaler\n",
        "from sklearn.decomposition import PCA\n",
        "\n",
        "\n",
        "from imblearn.ensemble import BalancedRandomForestClassifier\n",
        "from imblearn.over_sampling import RandomOverSampler\n",
        "from imblearn.under_sampling import RandomUnderSampler\n",
        "\n",
        "from IPython.core.completer import keyword\n",
        "\n",
        "import warnings\n",
        "warnings.filterwarnings('ignore')\n",
        "\n",
        "\n",
        "# load in the data set to be classified.\n",
        "x = np.loadtxt(\"/content/drive/MyDrive/share_folders_csc373/Data/heart_2020_cleaned_comb_num.csv\",\\\n",
        "                   skiprows=1, delimiter=\",\", dtype=\"int\")\n",
        "\n"
      ]
    },
    {
      "cell_type": "markdown",
      "source": [
        "### Basic Metrics Performance Measurement Function\n",
        "\n"
      ],
      "metadata": {
        "id": "dqLBgHJDX35I"
      }
    },
    {
      "cell_type": "code",
      "source": [
        "def TP(cm):\n",
        "    # this gives back the number of columns.\n",
        "    nc = len(cm[1])\n",
        "    tp = [0]*nc\n",
        "\n",
        "    # assign tp with the true positive values.\n",
        "    for i in range(nc):\n",
        "        tp[i] = cm[i][i]\n",
        "    return tp"
      ],
      "metadata": {
        "id": "MJ2qIeLcJHDs"
      },
      "execution_count": null,
      "outputs": []
    },
    {
      "cell_type": "code",
      "source": [
        "def FP(cm):\n",
        "  # subtract the instances that were predicted to belong to the class by the True positive, we then get the false mnegative.\n",
        "    return [sum(cm[:, col]) - cm[col, col] for col in range(cm.shape[1])]"
      ],
      "metadata": {
        "id": "a3QCb0ApLoWe"
      },
      "execution_count": null,
      "outputs": []
    },
    {
      "cell_type": "code",
      "source": [
        "def TN(cm):\n",
        "    total = np.sum(cm)\n",
        "    tp = TP(cm)\n",
        "    fp = FP(cm)\n",
        "    col_sums = np.sum(cm, axis=0)\n",
        "    row_sums = np.sum(cm, axis=1)\n",
        "    # tp[i] + fp[i] + row_sums[i]) gives the total count of\n",
        "    # samples that either belong to class i or were predicted as class i.\n",
        "    # subtracting this value from the overall total, we get the true negative.\n",
        "    return [total - (tp[i] + fp[i] + row_sums[i]) for i in range(cm.shape[1])]\n"
      ],
      "metadata": {
        "id": "oaDrTftVMJ80"
      },
      "execution_count": null,
      "outputs": []
    },
    {
      "cell_type": "code",
      "source": [
        "def FN(cm):\n",
        "  # sum of elements in the row minus the diagonal element gives the false negatives.\n",
        "    return [sum(cm[row]) - cm[row, row] for row in range(cm.shape[0])]"
      ],
      "metadata": {
        "id": "jqyFSkxmVYdH"
      },
      "execution_count": null,
      "outputs": []
    },
    {
      "cell_type": "code",
      "source": [
        "def accuracy(tp, tn, fp, fn):\n",
        "    # accuracy = (tp+tn) / (tp+tn+fp+fn)\n",
        "    return [(tp[i] + tn[i]) / (tp[i] + tn[i] + fp[i] + fn[i]) for i in range(len(tp))]"
      ],
      "metadata": {
        "id": "7A-M7pY0VbTE"
      },
      "execution_count": null,
      "outputs": []
    },
    {
      "cell_type": "code",
      "source": [
        "def F1(tp, fp, fn):\n",
        "    # F1 = 2*(precision * recall) /(precision + recall)\n",
        "    # precision = tp(tp+fp); recall = tp/(tp+fp)\n",
        "    precision = [tp[i] / (tp[i] + fp[i]) if tp[i] + fp[i] != 0 else 0 for i in range(len(tp))]\n",
        "    recall = [tp[i] / (tp[i] + fn[i]) if tp[i] + fn[i] != 0 else 0 for i in range(len(tp))]\n",
        "    return [2 * (precision[i] * recall[i]) / (precision[i] + recall[i]) if precision[i] + recall[i] != 0 else 0 for i in range(len(tp))]\n"
      ],
      "metadata": {
        "id": "vmGK_5F82CAU"
      },
      "execution_count": null,
      "outputs": []
    },
    {
      "cell_type": "code",
      "source": [
        "def TPR(tp, fn):\n",
        "    # true positive rate\n",
        "    # tp = tp / (tp+fn)\n",
        "    return [tp[i] / (tp[i] + fn[i]) if tp[i] + fn[i] != 0 else 0 for i in range(len(tp))]\n"
      ],
      "metadata": {
        "id": "cSacDpdW2tZT"
      },
      "execution_count": null,
      "outputs": []
    },
    {
      "cell_type": "markdown",
      "source": [
        "### Macro Measurement Functions\n",
        " Macro-average gives each class equal importance, so we calcualted statistics by independently calculating for each class and then taking the average over the classes."
      ],
      "metadata": {
        "id": "aunLpCAC6WVe"
      }
    },
    {
      "cell_type": "code",
      "source": [
        "def macro_TPR(tp,cm):\n",
        "    # an argument of tp list is given.\n",
        "    # fn represents the false negative list.\n",
        "    fn = FN(cm)\n",
        "    tpr_list = TPR(tp, fn)\n",
        "    # each class is weighted equally.\n",
        "    return sum(tpr_list) / len(tpr_list)"
      ],
      "metadata": {
        "id": "cbaIPo0u6V_G"
      },
      "execution_count": null,
      "outputs": []
    },
    {
      "cell_type": "code",
      "source": [
        "def macro_F1(f1):\n",
        "    return sum(f1) / len(f1)"
      ],
      "metadata": {
        "id": "qII_MEZX7XFl"
      },
      "execution_count": null,
      "outputs": []
    },
    {
      "cell_type": "code",
      "source": [
        "def macro_ACCURACY(acc):\n",
        "    return sum(acc) / len(acc)\n"
      ],
      "metadata": {
        "id": "TL4qHn_j7Zuj"
      },
      "execution_count": null,
      "outputs": []
    },
    {
      "cell_type": "code",
      "source": [
        "def class_conf_mat(cl, tp, tn, fp, fn):\n",
        "  # cl represents a specific class\n",
        "    return [[tp[cl], fp[cl]], [fn[cl], tn[cl]]]"
      ],
      "metadata": {
        "id": "JcSr0v-270CF"
      },
      "execution_count": null,
      "outputs": []
    },
    {
      "cell_type": "markdown",
      "source": [
        "### Micro-average Functions\n",
        "Micro-average is calculated by counting the total true positives, false negatives, and false positives across all classes."
      ],
      "metadata": {
        "id": "tLZiCKvJ7_pm"
      }
    },
    {
      "cell_type": "code",
      "source": [
        "def micro_conf_mat(tp, tn, fp, fn):\n",
        "    # creates a 2*2 matrix with predicted positive on the first row and predicted negative on the second row.\n",
        "    mcm = [[sum(tp), sum(fp)], [sum(fn), sum(tn)]]\n",
        "    return mcm\n"
      ],
      "metadata": {
        "id": "_H4MB2Lo7hP1"
      },
      "execution_count": null,
      "outputs": []
    },
    {
      "cell_type": "code",
      "source": [
        "def micro_TPR(cm):\n",
        "    # Computes the sum of all true positives from the confusion matrix.\n",
        "    tp_sum = sum([cm[i][i] for i in range(len(cm))])\n",
        "    # Computes the sum of all false negatives.\n",
        "    fn_sum = sum([sum(cm[row]) - cm[row][row] for row in range(len(cm))])\n",
        "    return tp_sum / (tp_sum + fn_sum)\n"
      ],
      "metadata": {
        "id": "OU8hJDny7_af"
      },
      "execution_count": null,
      "outputs": []
    },
    {
      "cell_type": "code",
      "source": [
        "def micro_F1(cm):\n",
        "    tp_sum = sum([cm[i][i] for i in range(len(cm))])\n",
        "    fp_sum = sum([sum(row) - row[i] for i, row in enumerate(cm)])\n",
        "    fn_sum = sum([sum(col[i] for col in cm) - cm[i][i] for i in range(len(cm))])\n",
        "    precision = tp_sum / (tp_sum + fp_sum)\n",
        "    recall = tp_sum / (tp_sum + fn_sum)\n",
        "    return 2 * precision * recall / (precision + recall)"
      ],
      "metadata": {
        "id": "ex_gLb7J9IN-"
      },
      "execution_count": null,
      "outputs": []
    },
    {
      "cell_type": "code",
      "source": [
        "\n",
        "def micro_ACCURACY(cm):\n",
        "    tp_sum = sum([cm[i][i] for i in range(len(cm))])\n",
        "    total = np.sum(cm)\n",
        "    return tp_sum / total"
      ],
      "metadata": {
        "id": "tCXWi9SL9KBL"
      },
      "execution_count": null,
      "outputs": []
    },
    {
      "cell_type": "markdown",
      "source": [
        "## KNN Classification"
      ],
      "metadata": {
        "id": "2QBstupc_FyB"
      }
    },
    {
      "cell_type": "code",
      "source": [
        "print(\"Begin classification using\", MODEL_TYPE)"
      ],
      "metadata": {
        "colab": {
          "base_uri": "https://localhost:8080/"
        },
        "id": "n5gfvonWOa0Y",
        "outputId": "b34dde21-126c-423d-f366-ddd6b483868e"
      },
      "execution_count": null,
      "outputs": [
        {
          "output_type": "stream",
          "name": "stdout",
          "text": [
            "Begin classification using KNN\n"
          ]
        }
      ]
    },
    {
      "cell_type": "code",
      "source": [
        "# set up the parameters\n",
        "RESAMPLE = None\n",
        "MODEL_TYPE = \"KNN\"\n",
        "TEST_SET_SIZE = 0.2\n",
        "\n",
        "# KNN algorithm is time inefficient. I choose to reduce the dimensionality to fast the classficiation.\n",
        "# IT retain 95% variance when using PCA\n",
        "PCA_COMPONENTS = 0.95\n",
        "KNN_N_NEIGHBORS = 5"
      ],
      "metadata": {
        "id": "6BS28cO9gcr3"
      },
      "execution_count": null,
      "outputs": []
    },
    {
      "cell_type": "code",
      "source": [
        "# Extract x and y from the loaded dataset.\n",
        "X = x[:, :-1]\n",
        "y = x[:, -1]"
      ],
      "metadata": {
        "id": "RRZhmGsYOf_e"
      },
      "execution_count": null,
      "outputs": []
    },
    {
      "cell_type": "code",
      "source": [
        "# Train-test split\n",
        "X_train, X_test, y_train, y_test = train_test_split(X, y, test_size=TEST_SET_SIZE, random_state=42)\n"
      ],
      "metadata": {
        "id": "yeUltkC1Oh5u"
      },
      "execution_count": null,
      "outputs": []
    },
    {
      "cell_type": "code",
      "source": [
        "# Apply PCA for dimensionality reduction and efficient classification.\n",
        "pca = PCA(n_components=PCA_COMPONENTS)\n",
        "\n",
        "X_train_pca = pca.fit_transform(X_train)\n",
        "X_test_pca = pca.transform(X_test)\n",
        "\n",
        "# Build up KNN Model.\n",
        "# n_jobs = -1 put all available CPU in the computer to fast the classification Process.\n",
        "knn = KNeighborsClassifier(n_neighbors=KNN_N_NEIGHBORS,n_jobs=-1)\n",
        "knn.fit(X_train_pca, y_train)\n",
        "y_pred = knn.predict(X_test_pca)"
      ],
      "metadata": {
        "id": "q2iUilhNOly0"
      },
      "execution_count": null,
      "outputs": []
    },
    {
      "cell_type": "markdown",
      "source": [
        "### KNN Multi-Class performance measurement\n",
        "\n",
        "##### The result gives out a confusion matrix for the dataset that has 4 response variable (HD_kD) classes: 0, 1, 2, 3.\n",
        "\n",
        "The main diagonal [44942, 5, 172, 0] represents the number of correct predictions for each class, from class 1 to class 4, respectively. The other numbers outside this diagonal represent misclassifications."
      ],
      "metadata": {
        "id": "yutrj9TQjqC4"
      }
    },
    {
      "cell_type": "code",
      "source": [
        "NUM_CLASSES = len(set(y_train))\n",
        "\n",
        "conf_mat = [[0]*NUM_CLASSES for _ in range(NUM_CLASSES)]\n",
        "err_cnt = 0\n",
        "\n",
        "# Use y_test for true labels, so the row represents the actual class.\n",
        "for i, val in enumerate(y_test):\n",
        "  # Use y_pred for predicted labels, the column represent the predicted class.\n",
        "  conf_mat[val][y_pred[i]] += 1\n",
        "\n",
        "print(\"Confusion matrix:\")\n",
        "for i in conf_mat:\n",
        "  print(i)"
      ],
      "metadata": {
        "colab": {
          "base_uri": "https://localhost:8080/"
        },
        "id": "cF5UdHzjoswh",
        "outputId": "f8254c75-1278-4036-9b0f-6ed8349a6580"
      },
      "execution_count": null,
      "outputs": [
        {
          "output_type": "stream",
          "name": "stdout",
          "text": [
            "Confusion matrix:\n",
            "[44942, 40, 559, 11]\n",
            "[1217, 5, 48, 1]\n",
            "[3630, 16, 172, 6]\n",
            "[535, 5, 32, 0]\n"
          ]
        }
      ]
    },
    {
      "cell_type": "code",
      "source": [
        "# initialize c_mat to be assigned with values of confusion matrix.\n",
        "c_mat = [[ 8,  5,  20],\n",
        "         [ 2, 10,  10],\n",
        "         [ 5,  5, 270]]\n",
        "\n",
        "\n",
        "c_mat = np.array(conf_mat)\n",
        "\n",
        "#Determine overall accuracy\n",
        "total_cnt = 0\n",
        "total_correct = 0\n",
        "for i in range(NUM_CLASSES):\n",
        "  for j in range(NUM_CLASSES):\n",
        "    total_cnt += c_mat[i][j]\n",
        "    if i==j:\n",
        "      total_correct += c_mat[i][j]\n",
        "overall_acc = total_correct/total_cnt\n",
        "print(\"total count:\", total_cnt)\n",
        "print(\"total correct:\", total_correct)\n",
        "print(\"overall accuracy %3.3f\" % overall_acc)\n",
        "\n",
        "# get the statistics for each class.\n",
        "tp = TP(c_mat)\n",
        "fp = FP(c_mat)\n",
        "tn = TN(c_mat)\n",
        "fn = FN(c_mat)\n",
        "acc = accuracy(tp, tn, fp, fn)\n",
        "acc = [round(x, 3) for x in acc]\n",
        "tpr = TPR(tp, fn)\n",
        "tpr = [round(x, 3) for x in tpr]\n",
        "f1 = F1(tp, fp, fn)\n",
        "f1 = [round(x, 3) for x in f1]\n",
        "\n",
        "# -------macro meausrements-----.\n",
        "# Macro accuracy computes the metric independently for each class and then takes the average.\n",
        "macro_tpr = macro_TPR(tpr, c_mat)\n",
        "macro_f1 = macro_F1(f1)\n",
        "macro_acc = macro_ACCURACY(acc)\n",
        "\n",
        "\n",
        "# -------micro measurements-----.\n",
        "# Micro accuracy aggregates the contributions of all the classes to compute the average metric.\n",
        "micro_c_mat = micro_conf_mat(tp, tn, fp, fn)\n",
        "\n",
        "for i in range(2):\n",
        "  for j in range(2):\n",
        "    micro_c_mat[i][j] = round(micro_c_mat[i][j], 3)\n",
        "\n",
        "micro_tpr = micro_TPR(micro_c_mat)\n",
        "micro_f1 = micro_F1(micro_c_mat)\n",
        "micro_acc = micro_ACCURACY(micro_c_mat)\n",
        "\n",
        "\n",
        "print(\"\\nClass metrics.\")\n",
        "print(\"TP:\", tp)\n",
        "print(\"FP:\", fp)\n",
        "print(\"TN:\", tn)\n",
        "print(\"FN:\", fn)\n",
        "print(\"Accuracy:\", acc)\n",
        "print(\"TPR:\", tpr)\n",
        "print(\"F1:\", f1)\n",
        "\n",
        "print(\"\\nMacro metrics.\")\n",
        "print(\"Macro TPR: %2.3f\" % macro_tpr)\n",
        "print(\"Macro F1: %2.3f\" % macro_f1)\n",
        "print(\"Macro ACC: %2.3f\" % macro_acc)\n",
        "\n",
        "print(\"\\nClass confusion matrices:\")\n",
        "for i in range(len(tp)):\n",
        "  class_c_mat = class_conf_mat(i, tp, tn, fp, fn)\n",
        "  print(\"Class \", i)\n",
        "  print(class_c_mat)\n",
        "\n",
        "\n",
        "print(\"\\nMicro confusion matrix:\")\n",
        "for row in micro_c_mat:\n",
        "  print(row)\n",
        "print(\"\\nMicro metrics.\")\n",
        "print(\"Micro TPR: %2.3f\" % micro_tpr)\n",
        "print(\"Micro F1: %2.3f\" % micro_f1)\n",
        "print(\"Micro ACC: %2.3f\" % micro_acc)\n"
      ],
      "metadata": {
        "colab": {
          "base_uri": "https://localhost:8080/"
        },
        "id": "F8Wy23DytYFF",
        "outputId": "a6b6e6a6-3d4a-4087-bd28-41ce2f224f3f"
      },
      "execution_count": null,
      "outputs": [
        {
          "output_type": "stream",
          "name": "stdout",
          "text": [
            "total count: 51219\n",
            "total correct: 45119\n",
            "overall accuracy 0.881\n",
            "\n",
            "Class metrics.\n",
            "TP: [44942, 5, 172, 0]\n",
            "FP: [5382, 61, 639, 18]\n",
            "TN: [-44657, 49882, 46584, 50629]\n",
            "FN: [610, 1266, 3652, 572]\n",
            "Accuracy: [0.045, 0.974, 0.916, 0.988]\n",
            "TPR: [0.987, 0.004, 0.045, 0.0]\n",
            "F1: [0.938, 0.007, 0.074, 0]\n",
            "\n",
            "Macro metrics.\n",
            "Macro TPR: 0.000\n",
            "Macro F1: 0.255\n",
            "Macro ACC: 0.731\n",
            "\n",
            "Class confusion matrices:\n",
            "Class  0\n",
            "[[44942, 5382], [610, -44657]]\n",
            "Class  1\n",
            "[[5, 61], [1266, 49882]]\n",
            "Class  2\n",
            "[[172, 639], [3652, 46584]]\n",
            "Class  3\n",
            "[[0, 18], [572, 50629]]\n",
            "\n",
            "Micro confusion matrix:\n",
            "[45119, 6100]\n",
            "[6100, 102438]\n",
            "\n",
            "Micro metrics.\n",
            "Micro TPR: 0.924\n",
            "Micro F1: 0.924\n",
            "Micro ACC: 0.924\n"
          ]
        }
      ]
    },
    {
      "cell_type": "markdown",
      "source": [
        "##### As indicated by the code below. Class 1 represents a significant majority of the data 88.83734552% while the other classes are under-represented in comparison, there is a class imbalance in the dataset. Usually, macro statistics would provide better evaluation on this dataset.\n",
        "I will test on K values from 1 to 21 to determine how these accuracy change\n"
      ],
      "metadata": {
        "id": "r8wyXHkRsJkf"
      }
    },
    {
      "cell_type": "code",
      "source": [
        "# 1. Extract unique classes and their counts\n",
        "(unique, counts) = np.unique(y, return_counts=True)\n",
        "print(\"Unique Classes:\", unique)\n",
        "print(\"Counts:\", counts)\n",
        "\n",
        "# 2. Calculate the proportion of each class\n",
        "total_samples = len(y)\n",
        "class_proportions = counts / total_samples * 100\n",
        "print(\"Class Proportions (%):\", class_proportions)\n"
      ],
      "metadata": {
        "colab": {
          "base_uri": "https://localhost:8080/"
        },
        "id": "-pu_H6e7rft7",
        "outputId": "0618c359-25d6-4e55-9be2-6e2f4b5e7442"
      },
      "execution_count": null,
      "outputs": [
        {
          "output_type": "stream",
          "name": "stdout",
          "text": [
            "Unique Classes: [0 1 2 3]\n",
            "Counts: [227508   6633  19184   2770]\n",
            "Class Proportions (%): [88.83734552  2.59005447  7.49097015  1.08162986]\n"
          ]
        }
      ]
    },
    {
      "cell_type": "markdown",
      "source": [
        "### KNN - test on different hyperparameters\n",
        "\n",
        "From the graph, we could see that all accuracies experience a significant increase when K approaches to 2, but stay relatively stable after that.\n",
        "And overall, micro statistics have the best performance."
      ],
      "metadata": {
        "id": "NCxhM-yYtoer"
      }
    },
    {
      "cell_type": "code",
      "source": [
        "# testing K from 1 to 20\n",
        "k_values = range(1, 21)\n",
        "\n",
        "# Store accuracies for each K value\n",
        "\n",
        "macro_accuracies = []\n",
        "micro_accuracies = []\n",
        "overall_accuracies = []\n",
        "\n",
        "for k in k_values:\n",
        "    knn = KNeighborsClassifier(n_neighbors=k, n_jobs=-1)\n",
        "    knn.fit(X_train_pca, y_train)\n",
        "    y_pred = knn.predict(X_test_pca)\n",
        "\n",
        "\n",
        "    # ----* calcualte macro accuracy *---- #.\n",
        "    NUM_CLASSES = len(set(y_train))\n",
        "\n",
        "    conf_mat = [[0]*NUM_CLASSES for _ in range(NUM_CLASSES)]\n",
        "    err_cnt = 0\n",
        "\n",
        "    # Use y_test for true labels, so the row represents the actual class.\n",
        "    for i, val in enumerate(y_test):\n",
        "    # Use y_pred for predicted labels, the column represent the predicted class.\n",
        "      conf_mat[val][y_pred[i]] += 1\n",
        "\n",
        "\n",
        "\n",
        "    c_mat = [[ 8,  5,  20],\n",
        "            [ 2, 10,  10],\n",
        "            [ 5,  5, 270]]\n",
        "\n",
        "\n",
        "    c_mat = np.array(conf_mat)\n",
        "\n",
        "    # get the statistics for each class.\n",
        "    tp = TP(c_mat)\n",
        "    fp = FP(c_mat)\n",
        "    tn = TN(c_mat)\n",
        "    fn = FN(c_mat)\n",
        "    acc = accuracy(tp, tn, fp, fn)\n",
        "    acc = [round(x, 3) for x in acc]\n",
        "\n",
        "    macro_acc = macro_ACCURACY(acc)\n",
        "    macro_accuracies.append(macro_acc)\n",
        "\n",
        "\n",
        "    # ----* calcualte micro accuracy *---- #.\n",
        "    micro_c_mat = micro_conf_mat(tp, tn, fp, fn)\n",
        "\n",
        "    for i in range(2):\n",
        "      for j in range(2):\n",
        "        micro_c_mat[i][j] = round(micro_c_mat[i][j], 3)\n",
        "\n",
        "    micro_acc = micro_ACCURACY(micro_c_mat)\n",
        "    micro_accuracies.append(micro_acc)\n",
        "\n",
        "\n",
        "     # ----* calcualte overall accuracy *---- #.\n",
        "    total_cnt = 0\n",
        "    total_correct = 0\n",
        "    for i in range(NUM_CLASSES):\n",
        "      for j in range(NUM_CLASSES):\n",
        "        total_cnt += c_mat[i][j]\n",
        "        if i==j:\n",
        "          total_correct += c_mat[i][j]\n",
        "\n",
        "    overall_acc = total_correct/total_cnt\n",
        "    overall_accuracies.append(overall_acc)\n",
        "\n",
        "plt.figure(figsize=(10, 6))\n",
        "plt.plot(k_values, overall_accuracies, marker='o', label='Overall Accuracy')\n",
        "plt.plot(k_values, micro_accuracies, marker='x', label='Micro Accuracy')\n",
        "plt.plot(k_values, macro_accuracies, marker='.', label='Macro Accuracy')\n",
        "\n",
        "plt.xlabel('Number of Neighbors (k)')\n",
        "plt.ylabel('Accuracy')\n",
        "plt.title('KNN Accuracy with varying k values')\n",
        "plt.legend()\n",
        "plt.grid(True)\n",
        "plt.show()"
      ],
      "metadata": {
        "colab": {
          "base_uri": "https://localhost:8080/",
          "height": 564
        },
        "id": "HKLeY-fI3BqC",
        "outputId": "7f221e20-71a5-4fe8-a735-2730fb1d48c1"
      },
      "execution_count": null,
      "outputs": [
        {
          "output_type": "display_data",
          "data": {
            "text/plain": [
              "<Figure size 1000x600 with 1 Axes>"
            ],
            "image/png": "[encoded data removed]"
          },
          "metadata": {}
        }
      ]
    },
    {
      "cell_type": "markdown",
      "source": [
        "# Random Forest Classification"
      ],
      "metadata": {
        "id": "KyEFrTjX1Dh_"
      }
    },
    {
      "cell_type": "code",
      "source": [
        "# Delineate hyperparameters\n",
        "N_ESTIMATORS = 100    # Number of trees in the forest\n",
        "MAX_DEPTH = None      # Maximum depth of the trees\n",
        "MIN_SAMPLES_SPLIT = 2 # Minimum number of samples required to split an internal node\n",
        "MIN_SAMPLES_LEAF = 1  # Minimum number of samples required to be at a leaf node\n",
        "RANDOM_STATE = 42     # Random state for reproducibility"
      ],
      "metadata": {
        "id": "vVP675Ek1CWL"
      },
      "execution_count": null,
      "outputs": []
    },
    {
      "cell_type": "code",
      "source": [
        "X_train, X_test, y_train, y_test = train_test_split(X, y, test_size=TEST_SET_SIZE, random_state=RANDOM_STATE)"
      ],
      "metadata": {
        "id": "2id_-BelRpBT"
      },
      "execution_count": null,
      "outputs": []
    },
    {
      "cell_type": "code",
      "source": [
        "# Initialize and train the Random Forest model\n",
        "\n",
        "X_train_pca = pca.fit_transform(X_train)\n",
        "X_test_pca = pca.transform(X_test)\n",
        "\n",
        "# Build up random forest Model.\n",
        "# n_jobs = -1 put all available CPU in the computer to fast the classification Process.\n",
        "clf = RandomForestClassifier(n_estimators=N_ESTIMATORS,\n",
        "                             max_depth=MAX_DEPTH,\n",
        "                             min_samples_split=MIN_SAMPLES_SPLIT,\n",
        "                             min_samples_leaf=MIN_SAMPLES_LEAF,\n",
        "                             random_state=RANDOM_STATE)\n",
        "clf.fit(X_train_pca, y_train)"
      ],
      "metadata": {
        "colab": {
          "base_uri": "https://localhost:8080/",
          "height": 75
        },
        "id": "IE0L_S-YPu3v",
        "outputId": "afe62720-5b7d-4af0-b09c-b5cd05ee32f2"
      },
      "execution_count": null,
      "outputs": [
        {
          "output_type": "execute_result",
          "data": {
            "text/plain": [
              "RandomForestClassifier(random_state=42)"
            ],
            "text/html": [
              "<style>#sk-container-id-2 {color: black;background-color: white;}#sk-container-id-2 pre{padding: 0;}#sk-container-id-2 div.sk-toggleable {background-color: white;}#sk-container-id-2 label.sk-toggleable__label {cursor: pointer;display: block;width: 100%;margin-bottom: 0;padding: 0.3em;box-sizing: border-box;text-align: center;}#sk-container-id-2 label.sk-toggleable__label-arrow:before {content: \"▸\";float: left;margin-right: 0.25em;color: #696969;}#sk-container-id-2 label.sk-toggleable__label-arrow:hover:before {color: black;}#sk-container-id-2 div.sk-estimator:hover label.sk-toggleable__label-arrow:before {color: black;}#sk-container-id-2 div.sk-toggleable__content {max-height: 0;max-width: 0;overflow: hidden;text-align: left;background-color: #f0f8ff;}#sk-container-id-2 div.sk-toggleable__content pre {margin: 0.2em;color: black;border-radius: 0.25em;background-color: #f0f8ff;}#sk-container-id-2 input.sk-toggleable__control:checked~div.sk-toggleable__content {max-height: 200px;max-width: 100%;overflow: auto;}#sk-container-id-2 input.sk-toggleable__control:checked~label.sk-toggleable__label-arrow:before {content: \"▾\";}#sk-container-id-2 div.sk-estimator input.sk-toggleable__control:checked~label.sk-toggleable__label {background-color: #d4ebff;}#sk-container-id-2 div.sk-label input.sk-toggleable__control:checked~label.sk-toggleable__label {background-color: #d4ebff;}#sk-container-id-2 input.sk-hidden--visually {border: 0;clip: rect(1px 1px 1px 1px);clip: rect(1px, 1px, 1px, 1px);height: 1px;margin: -1px;overflow: hidden;padding: 0;position: absolute;width: 1px;}#sk-container-id-2 div.sk-estimator {font-family: monospace;background-color: #f0f8ff;border: 1px dotted black;border-radius: 0.25em;box-sizing: border-box;margin-bottom: 0.5em;}#sk-container-id-2 div.sk-estimator:hover {background-color: #d4ebff;}#sk-container-id-2 div.sk-parallel-item::after {content: \"\";width: 100%;border-bottom: 1px solid gray;flex-grow: 1;}#sk-container-id-2 div.sk-label:hover label.sk-toggleable__label {background-color: #d4ebff;}#sk-container-id-2 div.sk-serial::before {content: \"\";position: absolute;border-left: 1px solid gray;box-sizing: border-box;top: 0;bottom: 0;left: 50%;z-index: 0;}#sk-container-id-2 div.sk-serial {display: flex;flex-direction: column;align-items: center;background-color: white;padding-right: 0.2em;padding-left: 0.2em;position: relative;}#sk-container-id-2 div.sk-item {position: relative;z-index: 1;}#sk-container-id-2 div.sk-parallel {display: flex;align-items: stretch;justify-content: center;background-color: white;position: relative;}#sk-container-id-2 div.sk-item::before, #sk-container-id-2 div.sk-parallel-item::before {content: \"\";position: absolute;border-left: 1px solid gray;box-sizing: border-box;top: 0;bottom: 0;left: 50%;z-index: -1;}#sk-container-id-2 div.sk-parallel-item {display: flex;flex-direction: column;z-index: 1;position: relative;background-color: white;}#sk-container-id-2 div.sk-parallel-item:first-child::after {align-self: flex-end;width: 50%;}#sk-container-id-2 div.sk-parallel-item:last-child::after {align-self: flex-start;width: 50%;}#sk-container-id-2 div.sk-parallel-item:only-child::after {width: 0;}#sk-container-id-2 div.sk-dashed-wrapped {border: 1px dashed gray;margin: 0 0.4em 0.5em 0.4em;box-sizing: border-box;padding-bottom: 0.4em;background-color: white;}#sk-container-id-2 div.sk-label label {font-family: monospace;font-weight: bold;display: inline-block;line-height: 1.2em;}#sk-container-id-2 div.sk-label-container {text-align: center;}#sk-container-id-2 div.sk-container {/* jupyter's `normalize.less` sets `[hidden] { display: none; }` but bootstrap.min.css set `[hidden] { display: none !important; }` so we also need the `!important` here to be able to override the default hidden behavior on the sphinx rendered scikit-learn.org. See: https://github.com/scikit-learn/scikit-learn/issues/21755 */display: inline-block !important;position: relative;}#sk-container-id-2 div.sk-text-repr-fallback {display: none;}</style><div id=\"sk-container-id-2\" class=\"sk-top-container\"><div class=\"sk-text-repr-fallback\"><pre>RandomForestClassifier(random_state=42)</pre><b>In a Jupyter environment, please rerun this cell to show the HTML representation or trust the notebook. <br />On GitHub, the HTML representation is unable to render, please try loading this page with nbviewer.org.</b></div><div class=\"sk-container\" hidden><div class=\"sk-item\"><div class=\"sk-estimator sk-toggleable\"><input class=\"sk-toggleable__control sk-hidden--visually\" id=\"sk-estimator-id-2\" type=\"checkbox\" checked><label for=\"sk-estimator-id-2\" class=\"sk-toggleable__label sk-toggleable__label-arrow\">RandomForestClassifier</label><div class=\"sk-toggleable__content\"><pre>RandomForestClassifier(random_state=42)</pre></div></div></div></div></div>"
            ]
          },
          "metadata": {},
          "execution_count": 96
        }
      ]
    },
    {
      "cell_type": "code",
      "source": [
        "# Predict using the test set\n",
        "y_pred = clf.predict(X_test_pca)"
      ],
      "metadata": {
        "id": "eqIY9VZwP3B2"
      },
      "execution_count": null,
      "outputs": []
    },
    {
      "cell_type": "markdown",
      "source": [
        "### RF Multi-Class performance measurement"
      ],
      "metadata": {
        "id": "7TegQaAGwzWL"
      }
    },
    {
      "cell_type": "code",
      "source": [
        "NUM_CLASSES = len(set(y_train))\n",
        "\n",
        "conf_mat = [[0]*NUM_CLASSES for _ in range(NUM_CLASSES)]\n",
        "err_cnt = 0\n",
        "# Use y_test for true labels, so the row represents the actual class.\n",
        "for i, val in enumerate(y_test):\n",
        "  # Use y_pred for predicted labels, the column represent the predicted class.\n",
        "  conf_mat[val][y_pred[i]] += 1\n",
        "\n",
        "print(\"Confusion matrix:\")\n",
        "for i in conf_mat:\n",
        "  print(i)"
      ],
      "metadata": {
        "colab": {
          "base_uri": "https://localhost:8080/"
        },
        "id": "jUZzcfP1P_T6",
        "outputId": "7132bff9-899d-4dbb-fec0-a8ef90d1d09a"
      },
      "execution_count": null,
      "outputs": [
        {
          "output_type": "stream",
          "name": "stdout",
          "text": [
            "Confusion matrix:\n",
            "[44461, 184, 848, 59]\n",
            "[1211, 9, 47, 4]\n",
            "[3506, 51, 240, 27]\n",
            "[503, 7, 54, 8]\n"
          ]
        }
      ]
    },
    {
      "cell_type": "code",
      "source": [
        "c_mat = [[ 8,  5,  20],\n",
        "         [ 2, 10,  10],\n",
        "         [ 5,  5, 270]]\n",
        "\n",
        "\n",
        "c_mat = np.array(conf_mat)\n",
        "\n",
        "#Determine overall accuracy\n",
        "total_cnt = 0\n",
        "total_correct = 0\n",
        "for i in range(NUM_CLASSES):\n",
        "  for j in range(NUM_CLASSES):\n",
        "    total_cnt += c_mat[i][j]\n",
        "    if i==j:\n",
        "      total_correct += c_mat[i][j]\n",
        "overall_acc = total_correct/total_cnt\n",
        "print(\"total count:\", total_cnt)\n",
        "print(\"total correct:\", total_correct)\n",
        "print(\"overall accuracy %3.3f\" % overall_acc)\n",
        "\n",
        "print(\"\\nConfusion matrix:\")\n",
        "for row in c_mat:\n",
        "      print(row)\n",
        "\n",
        "tp = TP(c_mat)\n",
        "fp = FP(c_mat)\n",
        "tn = TN(c_mat)\n",
        "fn = FN(c_mat)\n",
        "acc = accuracy(tp, tn, fp, fn)\n",
        "acc = [round(x, 3) for x in acc]\n",
        "tpr = TPR(tp, fn)\n",
        "tpr = [round(x, 3) for x in tpr]\n",
        "f1 = F1(tp, fp, fn)\n",
        "f1 = [round(x, 3) for x in f1]\n"
      ],
      "metadata": {
        "colab": {
          "base_uri": "https://localhost:8080/"
        },
        "id": "YMIhUs1gQC-j",
        "outputId": "eb7c131d-93e5-425a-cc20-fc44f03a4822"
      },
      "execution_count": null,
      "outputs": [
        {
          "output_type": "stream",
          "name": "stdout",
          "text": [
            "total count: 51219\n",
            "total correct: 44718\n",
            "overall accuracy 0.873\n",
            "\n",
            "Confusion matrix:\n",
            "[44461   184   848    59]\n",
            "[1211    9   47    4]\n",
            "[3506   51  240   27]\n",
            "[503   7  54   8]\n"
          ]
        }
      ]
    },
    {
      "cell_type": "code",
      "source": [
        "macro_tpr = macro_TPR(tpr, c_mat)\n",
        "macro_f1 = macro_F1(f1)\n",
        "macro_acc = macro_ACCURACY(acc)\n",
        "\n",
        "micro_c_mat = micro_conf_mat(tp, tn, fp, fn)\n",
        "\n",
        "\n",
        "for i in range(2):\n",
        "  for j in range(2):\n",
        "    micro_c_mat[i][j] = round(micro_c_mat[i][j], 3)\n",
        "\n",
        "micro_tpr = micro_TPR(micro_c_mat)\n",
        "micro_f1 = micro_F1(micro_c_mat)\n",
        "micro_acc = micro_ACCURACY(micro_c_mat)"
      ],
      "metadata": {
        "id": "DPeKPpapQFTe"
      },
      "execution_count": null,
      "outputs": []
    },
    {
      "cell_type": "code",
      "source": [
        "print(\"\\nClass metrics.\")\n",
        "print(\"TP:\", tp)\n",
        "print(\"FP:\", fp)\n",
        "print(\"TN:\", tn)\n",
        "print(\"FN:\", fn)\n",
        "print(\"Accuracy:\", acc)\n",
        "print(\"TPR:\", tpr)\n",
        "print(\"F1:\", f1)\n",
        "\n",
        "print(\"\\nMacro metrics.\")\n",
        "print(\"Macro TPR: %2.3f\" % macro_tpr)\n",
        "print(\"Macro F1: %2.3f\" % macro_f1)\n",
        "print(\"Macro ACC: %2.3f\" % macro_acc)\n",
        "\n",
        "print(\"\\nClass confusion matrices:\")\n",
        "for i in range(len(tp)):\n",
        "  class_c_mat = class_conf_mat(i, tp, tn, fp, fn)\n",
        "  print(\"Class \", i)\n",
        "  print(class_c_mat)\n",
        "\n",
        "print(\"\\nMicro confusion matrix:\")\n",
        "for row in micro_c_mat:\n",
        "  print(row)\n",
        "print(\"\\nMicro metrics.\")\n",
        "print(\"Micro TPR: %2.3f\" % micro_tpr)\n",
        "print(\"Micro F1: %2.3f\" % micro_f1)\n",
        "print(\"Micro ACC: %2.3f\" % micro_acc)"
      ],
      "metadata": {
        "id": "UxfhVM2ZR4AY",
        "outputId": "e29d18a1-cde3-4aa2-e90a-8800002cdd88",
        "colab": {
          "base_uri": "https://localhost:8080/"
        }
      },
      "execution_count": null,
      "outputs": [
        {
          "output_type": "stream",
          "name": "stdout",
          "text": [
            "\n",
            "Class metrics.\n",
            "TP: [44461, 9, 240, 8]\n",
            "FP: [5220, 242, 949, 90]\n",
            "TN: [-44014, 49697, 46206, 50549]\n",
            "FN: [1091, 1262, 3584, 564]\n",
            "Accuracy: [0.066, 0.971, 0.911, 0.987]\n",
            "TPR: [0.976, 0.007, 0.063, 0.014]\n",
            "F1: [0.934, 0.012, 0.096, 0.024]\n",
            "\n",
            "Macro metrics.\n",
            "Macro TPR: 0.000\n",
            "Macro F1: 0.267\n",
            "Macro ACC: 0.734\n",
            "\n",
            "Class confusion matrices:\n",
            "Class  0\n",
            "[[44461, 5220], [1091, -44014]]\n",
            "Class  1\n",
            "[[9, 242], [1262, 49697]]\n",
            "Class  2\n",
            "[[240, 949], [3584, 46206]]\n",
            "Class  3\n",
            "[[8, 90], [564, 50549]]\n",
            "\n",
            "Micro confusion matrix:\n",
            "[44718, 6501]\n",
            "[6501, 102438]\n",
            "\n",
            "Micro metrics.\n",
            "Micro TPR: 0.919\n",
            "Micro F1: 0.919\n",
            "Micro ACC: 0.919\n"
          ]
        }
      ]
    },
    {
      "cell_type": "markdown",
      "source": [
        "##### Micro ACC = 0.919, Macro ACC = 0.734.\n",
        "It is not a huge difference between random forest and KNN. And Micro statistics is still better performed."
      ],
      "metadata": {
        "id": "ywAI4UwuEEk5"
      }
    },
    {
      "cell_type": "markdown",
      "source": [
        "### Testing with different Parameters.\n",
        "These two parameters N_ESTIMATORS and MAX_DEPTH usually have the most direct impact on the accuracy. So, I will test on the accuracy change on these two parameters."
      ],
      "metadata": {
        "id": "KZu9ZbE7D84L"
      }
    },
    {
      "cell_type": "code",
      "source": [
        "depth_values = range(1, 21)\n",
        "\n",
        "# Store accuracies for each K value\n",
        "\n",
        "macro_accuracies = []\n",
        "micro_accuracies = []\n",
        "overall_accuracies = []\n",
        "\n",
        "for depth in depth_values:\n",
        "    rf = RandomForestClassifier(n_estimators=100, max_depth=depth, random_state=42, n_jobs=-1)\n",
        "    rf.fit(X_train_pca, y_train)\n",
        "    y_pred = rf.predict(X_test_pca)\n",
        "\n",
        "    # ----* calcualte macro accuracy *---- #.\n",
        "    NUM_CLASSES = len(set(y_train))\n",
        "\n",
        "    conf_mat = [[0]*NUM_CLASSES for _ in range(NUM_CLASSES)]\n",
        "    err_cnt = 0\n",
        "\n",
        "    # Use y_test for true labels, so the row represents the actual class.\n",
        "    for i, val in enumerate(y_test):\n",
        "    # Use y_pred for predicted labels, the column represent the predicted class.\n",
        "      conf_mat[val][y_pred[i]] += 1\n",
        "\n",
        "\n",
        "\n",
        "    c_mat = [[ 8,  5,  20],\n",
        "            [ 2, 10,  10],\n",
        "            [ 5,  5, 270]]\n",
        "\n",
        "\n",
        "    c_mat = np.array(conf_mat)\n",
        "\n",
        "    # get the statistics for each class.\n",
        "    tp = TP(c_mat)\n",
        "    fp = FP(c_mat)\n",
        "    tn = TN(c_mat)\n",
        "    fn = FN(c_mat)\n",
        "    acc = accuracy(tp, tn, fp, fn)\n",
        "    acc = [round(x, 3) for x in acc]\n",
        "\n",
        "    macro_acc = macro_ACCURACY(acc)\n",
        "    macro_accuracies.append(macro_acc)\n",
        "\n",
        "\n",
        "    # ----* calcualte micro accuracy *---- #.\n",
        "    micro_c_mat = micro_conf_mat(tp, tn, fp, fn)\n",
        "\n",
        "    for i in range(2):\n",
        "      for j in range(2):\n",
        "        micro_c_mat[i][j] = round(micro_c_mat[i][j], 3)\n",
        "\n",
        "    micro_acc = micro_ACCURACY(micro_c_mat)\n",
        "    micro_accuracies.append(micro_acc)\n",
        "\n",
        "\n",
        "     # ----* calcualte overall accuracy *---- #.\n",
        "    total_cnt = 0\n",
        "    total_correct = 0\n",
        "    for i in range(NUM_CLASSES):\n",
        "      for j in range(NUM_CLASSES):\n",
        "        total_cnt += c_mat[i][j]\n",
        "        if i==j:\n",
        "          total_correct += c_mat[i][j]\n",
        "\n",
        "    overall_acc = total_correct/total_cnt\n",
        "    overall_accuracies.append(overall_acc)\n",
        "\n",
        "plt.figure(figsize=(10, 6))\n",
        "plt.plot(depth_values, overall_accuracies, marker='o', label='Overall Accuracy')\n",
        "plt.plot(depth_values, micro_accuracies, marker='x', label='Micro Accuracy')\n",
        "plt.plot(depth_values, macro_accuracies, marker='.', label='Macro Accuracy')\n",
        "\n",
        "plt.xlabel('Max Depth')\n",
        "plt.ylabel('Accuracy')\n",
        "plt.title('Random Forest Accuracy with varying Max Depth')\n",
        "plt.legend()\n",
        "plt.grid(True)\n",
        "plt.show()"
      ],
      "metadata": {
        "colab": {
          "base_uri": "https://localhost:8080/",
          "height": 564
        },
        "id": "3HsRSgYIEEQi",
        "outputId": "b4d3de09-39ec-4105-9a85-0d9bfad32a09"
      },
      "execution_count": null,
      "outputs": [
        {
          "output_type": "display_data",
          "data": {
            "text/plain": [
              "<Figure size 1000x600 with 1 Axes>"
            ],
            "image/png": "[encoded data removed]"
          },
          "metadata": {}
        }
      ]
    },
    {
      "cell_type": "code",
      "source": [
        "# set the number of trees ranging from 10 - 201, in an interval of 50 to make it more efficient.\n",
        "n_estimators_values = range(10, 201, 50)\n",
        "\n",
        "# Store accuracies for each algorithm\n",
        "\n",
        "macro_accuracies = []\n",
        "micro_accuracies = []\n",
        "overall_accuracies = []\n",
        "\n",
        "\n",
        "# Constants\n",
        "MAX_DEPTH = None\n",
        "MIN_SAMPLES_SPLIT = 2\n",
        "MIN_SAMPLES_LEAF = 1\n",
        "RANDOM_STATE = 42\n",
        "\n",
        "\n",
        "for n in n_estimators_values:\n",
        "    rf = RandomForestClassifier(n_estimators=n, max_depth=MAX_DEPTH, min_samples_split=MIN_SAMPLES_SPLIT,\n",
        "                                min_samples_leaf=MIN_SAMPLES_LEAF, random_state=RANDOM_STATE, n_jobs=-1)\n",
        "    rf.fit(X_train_pca, y_train)\n",
        "    y_pred = rf.predict(X_test_pca)\n",
        "\n",
        "\n",
        "    # ----* calcualte macro accuracy *---- #.\n",
        "    NUM_CLASSES = len(set(y_train))\n",
        "\n",
        "    conf_mat = [[0]*NUM_CLASSES for _ in range(NUM_CLASSES)]\n",
        "    err_cnt = 0\n",
        "\n",
        "    # Use y_test for true labels, so the row represents the actual class.\n",
        "    for i, val in enumerate(y_test):\n",
        "    # Use y_pred for predicted labels, the column represent the predicted class.\n",
        "      conf_mat[val][y_pred[i]] += 1\n",
        "\n",
        "\n",
        "\n",
        "    c_mat = [[ 8,  5,  20],\n",
        "            [ 2, 10,  10],\n",
        "            [ 5,  5, 270]]\n",
        "\n",
        "\n",
        "    c_mat = np.array(conf_mat)\n",
        "\n",
        "    # get the statistics for each class.\n",
        "    tp = TP(c_mat)\n",
        "    fp = FP(c_mat)\n",
        "    tn = TN(c_mat)\n",
        "    fn = FN(c_mat)\n",
        "    acc = accuracy(tp, tn, fp, fn)\n",
        "    acc = [round(x, 3) for x in acc]\n",
        "\n",
        "    macro_acc = macro_ACCURACY(acc)\n",
        "    macro_accuracies.append(macro_acc)\n",
        "\n",
        "\n",
        "    # ----* calcualte micro accuracy *---- #.\n",
        "    micro_c_mat = micro_conf_mat(tp, tn, fp, fn)\n",
        "\n",
        "    for i in range(2):\n",
        "      for j in range(2):\n",
        "        micro_c_mat[i][j] = round(micro_c_mat[i][j], 3)\n",
        "\n",
        "    micro_acc = micro_ACCURACY(micro_c_mat)\n",
        "    micro_accuracies.append(micro_acc)\n",
        "\n",
        "\n",
        "     # ----* calcualte overall accuracy *---- #.\n",
        "    total_cnt = 0\n",
        "    total_correct = 0\n",
        "    for i in range(NUM_CLASSES):\n",
        "      for j in range(NUM_CLASSES):\n",
        "        total_cnt += c_mat[i][j]\n",
        "        if i==j:\n",
        "          total_correct += c_mat[i][j]\n",
        "\n",
        "    overall_acc = total_correct/total_cnt\n",
        "    overall_accuracies.append(overall_acc)\n",
        "\n",
        "\n",
        "plt.figure(figsize=(10, 6))\n",
        "plt.plot(n_estimators_values, overall_accuracies, marker='o', label='Overall Accuracy')\n",
        "plt.plot(n_estimators_values, micro_accuracies, marker='x', label='Micro Accuracy')\n",
        "plt.plot(n_estimators_values, macro_accuracies, marker='.', label='Macro Accuracy')\n",
        "plt.xlabel('Number of Trees (N_ESTIMATORS)')\n",
        "plt.ylabel('Accuracy')\n",
        "plt.title('Random Forest Accuracy with varying N_ESTIMATORS')\n",
        "plt.legend()\n",
        "plt.grid(True)\n",
        "plt.show()"
      ],
      "metadata": {
        "colab": {
          "base_uri": "https://localhost:8080/",
          "height": 564
        },
        "id": "WYl5ddc5BoiV",
        "outputId": "77f7fe2f-1e38-44b8-b340-ba941781a854"
      },
      "execution_count": null,
      "outputs": [
        {
          "output_type": "display_data",
          "data": {
            "text/plain": [
              "<Figure size 1000x600 with 1 Axes>"
            ],
            "image/png": "[encoded data removed]"
          },
          "metadata": {}
        }
      ]
    }
  ]
}