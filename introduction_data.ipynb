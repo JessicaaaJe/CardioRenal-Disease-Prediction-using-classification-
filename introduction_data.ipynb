{
  "cells": [
    {
      "cell_type": "markdown",
      "metadata": {
        "id": "view-in-github",
        "colab_type": "text"
      },
      "source": [
        "<a href=\"https://colab.research.google.com/github/JessicaaaJe/Jesscia_Data_Mining_Project/blob/main/introduction_data.ipynb\" target=\"_parent\"><img src=\"https://colab.research.google.com/assets/colab-badge.svg\" alt=\"Open In Colab\"/></a>"
      ]
    },
    {
      "cell_type": "code",
      "execution_count": null,
      "metadata": {
        "colab": {
          "base_uri": "https://localhost:8080/"
        },
        "id": "RhMjQ59E1oXm",
        "outputId": "1a5a8aa5-a977-4989-dccc-4228f791ef27"
      },
      "outputs": [
        {
          "output_type": "stream",
          "name": "stdout",
          "text": [
            "Mounted at /content/drive\n"
          ]
        }
      ],
      "source": [
        "# mount the drive in order to read in the dataset file.\n",
        "from google.colab import drive\n",
        "drive.mount('/content/drive')\n"
      ]
    },
    {
      "cell_type": "code",
      "execution_count": null,
      "metadata": {
        "id": "nfNtk52S5TBf"
      },
      "outputs": [],
      "source": [
        "# import\n",
        "import pandas as pd\n",
        "from sklearn.preprocessing import MinMaxScaler\n",
        "import numpy as np"
      ]
    },
    {
      "cell_type": "code",
      "execution_count": null,
      "metadata": {
        "colab": {
          "base_uri": "https://localhost:8080/"
        },
        "id": "24oCYkh81oVm",
        "outputId": "6ebe066e-9a47-4c76-ac26-b87d6e7dbfcc"
      },
      "outputs": [
        {
          "output_type": "stream",
          "name": "stdout",
          "text": [
            "   Pregnancies  Glucose  BloodPressure  SkinThickness  Insulin   BMI  \\\n",
            "0            6      148             72             35        0  33.6   \n",
            "1            1       85             66             29        0  26.6   \n",
            "2            8      183             64              0        0  23.3   \n",
            "3            1       89             66             23       94  28.1   \n",
            "4            0      137             40             35      168  43.1   \n",
            "\n",
            "   DiabetesPedigreeFunction  Age  Outcome  \n",
            "0                     0.627   50        1  \n",
            "1                     0.351   31        0  \n",
            "2                     0.672   32        1  \n",
            "3                     0.167   21        0  \n",
            "4                     2.288   33        1  \n"
          ]
        }
      ],
      "source": [
        "# read in the csv file.\n",
        "# the 2D matrix is built.\n",
        "data = pd.read_csv('/content/drive/MyDrive/share_folders_csc373/Data/diabetes_dataset.csv')\n",
        "print(data.head())"
      ]
    },
    {
      "cell_type": "code",
      "execution_count": null,
      "metadata": {
        "colab": {
          "base_uri": "https://localhost:8080/"
        },
        "id": "YRgLD0Jm1oRl",
        "outputId": "c2483a36-8048-47a9-d99e-04e21b7dc73b"
      },
      "outputs": [
        {
          "output_type": "stream",
          "name": "stdout",
          "text": [
            "    Glucose  BloodPressure  SkinThickness   Insulin       BMI  \\\n",
            "0  0.743719       0.590164       0.353535  0.000000  0.500745   \n",
            "1  0.427136       0.540984       0.292929  0.000000  0.396423   \n",
            "2  0.919598       0.524590       0.000000  0.000000  0.347243   \n",
            "3  0.447236       0.540984       0.232323  0.111111  0.418778   \n",
            "4  0.688442       0.327869       0.353535  0.198582  0.642325   \n",
            "\n",
            "   DiabetesPedigreeFunction  \n",
            "0                  0.234415  \n",
            "1                  0.116567  \n",
            "2                  0.253629  \n",
            "3                  0.038002  \n",
            "4                  0.943638  \n",
            "   Pregnancies   Glucose  BloodPressure  SkinThickness   Insulin       BMI  \\\n",
            "0            6  0.743719       0.590164       0.353535  0.000000  0.500745   \n",
            "1            1  0.427136       0.540984       0.292929  0.000000  0.396423   \n",
            "2            8  0.919598       0.524590       0.000000  0.000000  0.347243   \n",
            "3            1  0.447236       0.540984       0.232323  0.111111  0.418778   \n",
            "4            0  0.688442       0.327869       0.353535  0.198582  0.642325   \n",
            "\n",
            "   DiabetesPedigreeFunction  Age  Outcome  \n",
            "0                  0.234415   50        1  \n",
            "1                  0.116567   31        0  \n",
            "2                  0.253629   32        1  \n",
            "3                  0.038002   21        0  \n",
            "4                  0.943638   33        1  \n"
          ]
        }
      ],
      "source": [
        "# List of attributes to scale\n",
        "attributes_to_scale = [\"Glucose\", \"BloodPressure\", \"SkinThickness\", \"Insulin\", \"BMI\", \"DiabetesPedigreeFunction\"]\n",
        "\n",
        "\n",
        "scaler = MinMaxScaler()\n",
        "scaled_data = scaler.fit_transform(data[attributes_to_scale])\n",
        "\n",
        "# get a dataframe that only includes scaled attributes.\n",
        "only_scaled_df = pd.DataFrame(scaled_data, columns=attributes_to_scale)\n",
        "print(only_scaled_df.head())\n",
        "\n",
        "# get a dataframe that contains 6 scaled attributes and 3 original attributes.\n",
        "data_cp = data.copy()\n",
        "data_cp[attributes_to_scale] = scaler.fit_transform(data[attributes_to_scale])\n",
        "print(data_cp.head())"
      ]
    },
    {
      "cell_type": "code",
      "execution_count": null,
      "metadata": {
        "id": "3NFafYW-1oOm"
      },
      "outputs": [],
      "source": [
        "# calculate Euclidean Distance between two observations\n",
        "# this function will perform (x-y)^2 on each component in the vector of x and y. and sum them up.\n",
        "def euclidean_distance(x, y):\n",
        "    return np.sqrt(np.sum((x - y) ** 2))"
      ]
    },
    {
      "cell_type": "code",
      "execution_count": null,
      "metadata": {
        "id": "mO_Ol9991oMD"
      },
      "outputs": [],
      "source": [
        "# cosine similarity is calculated by inner product between x and y over the product of magnitude of x and\n",
        "# y.\n",
        "def cosine_similarity(x, y):\n",
        "    inner_product = np.dot(x, y)\n",
        "    norm_x = np.linalg.norm(x)\n",
        "    norm_y = np.linalg.norm(y)\n",
        "    return inner_product / (norm_x * norm_y)"
      ]
    },
    {
      "cell_type": "code",
      "source": [
        "def format_array(arr):\n",
        "    return ', '.join(f\"{item:.3f}\" for item in arr)"
      ],
      "metadata": {
        "id": "Z2zQauF7Nfve"
      },
      "execution_count": null,
      "outputs": []
    },
    {
      "cell_type": "code",
      "execution_count": null,
      "metadata": {
        "colab": {
          "base_uri": "https://localhost:8080/"
        },
        "id": "G6f5271R1oGI",
        "outputId": "476ebe50-2715-4c28-c833-0cfc7877ba29"
      },
      "outputs": [
        {
          "output_type": "stream",
          "name": "stdout",
          "text": [
            "Enter the index of the first observation (0 to 767 or a negative number to save and exit): 1\n",
            "Enter the index of the second observation (0 to 767 or a negative number to save and exit): 4\n",
            "\n",
            "Observation 1: 0.427, 0.541, 0.293, 0.000, 0.396, 0.117\n",
            "Observation 4: 0.688, 0.328, 0.354, 0.199, 0.642, 0.944\n",
            "Euclidean Distance: 0.949\n",
            "Cosine Similarity: 0.767\n",
            "\n",
            "Enter the index of the first observation (0 to 767 or a negative number to save and exit): 3\n",
            "Enter the index of the second observation (0 to 767 or a negative number to save and exit): 6\n",
            "\n",
            "Observation 3: 0.447, 0.541, 0.232, 0.111, 0.419, 0.038\n",
            "Observation 6: 0.392, 0.410, 0.323, 0.104, 0.462, 0.073\n",
            "Euclidean Distance: 0.178\n",
            "Cosine Similarity: 0.979\n",
            "\n",
            "Enter the index of the first observation (0 to 767 or a negative number to save and exit): -1\n",
            "Enter the index of the second observation (0 to 767 or a negative number to save and exit): -2\n",
            "Data saved to /content/drive/MyDrive/Chen_Jessica_CSC_373/Introduction and Data/diabetes_dataset_out.csv. Exiting program.\n"
          ]
        }
      ],
      "source": [
        "\n",
        "while True:\n",
        "    try:\n",
        "        # Get user input for indices\n",
        "        x_idx = int(input(f\"Enter the index of the first observation (0 to {len(only_scaled_df)-1} or a negative number to save and exit): \"))\n",
        "        y_idx = int(input(f\"Enter the index of the second observation (0 to {len(only_scaled_df)-1} or a negative number to save and exit): \"))\n",
        "\n",
        "        # Check if either index is negative\n",
        "        if x_idx < 0 or y_idx < 0:\n",
        "            # Save the updated data dataframe to Google Drive with '_out' appended\n",
        "            output_filename = \"/content/drive/MyDrive/Chen_Jessica_CSC_373/Introduction and Data/diabetes_dataset_out.csv\"\n",
        "            data_cp.to_csv(output_filename, index=False)\n",
        "            print(f\"Data saved to {output_filename}. Exiting program.\")\n",
        "            break\n",
        "\n",
        "        # get observations based on indices from only_scaled_df\n",
        "        x = only_scaled_df.iloc[x_idx].values\n",
        "        y = only_scaled_df.iloc[y_idx].values\n",
        "\n",
        "        # Compute the metrics\n",
        "        eu_dist = euclidean_distance(x, y)\n",
        "        cos_sim = cosine_similarity(x, y)\n",
        "\n",
        "        # Display results\n",
        "        print(f\"\\nObservation {x_idx}: {format_array(x)}\")\n",
        "        print(f\"Observation {y_idx}: {format_array(y)}\")\n",
        "\n",
        "        print(f\"Euclidean Distance: {eu_dist:.3f}\")\n",
        "        print(f\"Cosine Similarity: {cos_sim:.3f}\\n\")\n",
        "\n",
        "    except ValueError:\n",
        "        print(\"Please enter a valid integer index.\")\n",
        "    except IndexError:\n",
        "        print(\"Index out of range. Please enter a valid index.\")\n",
        "\n"
      ]
    }
  ],
  "metadata": {
    "colab": {
      "provenance": [],
      "authorship_tag": "ABX9TyMs/qLzaKQwJAQ4vngxr7P+",
      "include_colab_link": true
    },
    "kernelspec": {
      "display_name": "Python 3",
      "name": "python3"
    },
    "language_info": {
      "name": "python"
    }
  },
  "nbformat": 4,
  "nbformat_minor": 0
}